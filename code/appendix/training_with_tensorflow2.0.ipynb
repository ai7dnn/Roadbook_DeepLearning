{
 "cells": [
  {
   "cell_type": "markdown",
   "metadata": {},
   "source": [
    "### 데이터셋 준비 "
   ]
  },
  {
   "cell_type": "code",
   "execution_count": null,
   "metadata": {},
   "outputs": [],
   "source": [
    "import tensorflow as tf\n",
    "\n",
    "from tensorflow.keras.datasets import mnist\n",
    "\n",
    "# 테스트셋은 사용하지 않기 때문에 생략합니다.\n",
    "(x_train, y_train), _ = mnist.load_data()\n",
    "x_train = x_train / 255.0\n",
    "\n",
    "# 채널을 추가합니다.(28, 28) -> (28, 28, 1)\n",
    "x_train = x_train[..., tf.newaxis]\n",
    "\n",
    "from sklearn.model_selection import train_test_split\n",
    "\n",
    "x_train, x_val, y_train, y_val = train_test_split(x_train, y_train, \n",
    "                                                  test_size = 0.3, random_state = 777)\n",
    "\n",
    "print(f'x_train shape: {x_train.shape} \\nx_val shape: {x_val.shape}')"
   ]
  },
  {
   "cell_type": "markdown",
   "metadata": {},
   "source": [
    "### Dataset 정의"
   ]
  },
  {
   "cell_type": "code",
   "execution_count": null,
   "metadata": {},
   "outputs": [],
   "source": [
    "# 학습 데이터셋 객체를 생성합니다.\n",
    "train_ds = tf.data.Dataset.from_tensor_slices((x_train, y_train))\n",
    "train_ds = train_ds.shuffle(1000).batch(32)\n",
    "\n",
    "# 검증 데이터셋 객체를 생성합니다.\n",
    "val_ds = tf.data.Dataset.from_tensor_slices((x_val, y_val)).batch(32)"
   ]
  },
  {
   "cell_type": "markdown",
   "metadata": {},
   "source": [
    "### 모델 정의"
   ]
  },
  {
   "cell_type": "code",
   "execution_count": null,
   "metadata": {},
   "outputs": [],
   "source": [
    "from tensorflow.keras.layers import Dense, Flatten, Conv2D, Input\n",
    "from tensorflow.keras import Model\n",
    "\n",
    "def get_model():\n",
    "    inputs = Input(shape = (28, 28, 1))\n",
    "\n",
    "    x = Conv2D(32, 3, activation = 'relu')(inputs)\n",
    "    x = Flatten()(x)\n",
    "    x = Dense(128, activation = 'relu')(x)\n",
    "    x = Dense(10, activation = 'softmax')(x)\n",
    "\n",
    "    model = Model(inputs = inputs, outputs = x)\n",
    "\n",
    "    return model\n",
    "\n",
    "model = get_model()"
   ]
  },
  {
   "cell_type": "markdown",
   "metadata": {},
   "source": [
    "### loss 및 optimizer 정의"
   ]
  },
  {
   "cell_type": "code",
   "execution_count": null,
   "metadata": {},
   "outputs": [],
   "source": [
    "from tensorflow.keras.losses import SparseCategoricalCrossentropy\n",
    "from tensorflow.keras.optimizers import Adam\n",
    "\n",
    "loss_object = SparseCategoricalCrossentropy()\n",
    "optimizer = Adam()"
   ]
  },
  {
   "cell_type": "markdown",
   "metadata": {},
   "source": [
    "### Metric 정의"
   ]
  },
  {
   "cell_type": "code",
   "execution_count": null,
   "metadata": {},
   "outputs": [],
   "source": [
    "from tensorflow.keras.metrics import Mean\n",
    "from tensorflow.keras.metrics import SparseCategoricalAccuracy\n",
    "\n",
    "train_loss = Mean(name='train_loss')\n",
    "train_accuracy = SparseCategoricalAccuracy(name='train_accuracy')\n",
    "\n",
    "val_loss = Mean(name='val_loss')\n",
    "val_accuracy = SparseCategoricalAccuracy(name='val_accuracy')"
   ]
  },
  {
   "cell_type": "markdown",
   "metadata": {},
   "source": [
    "### 학습 과정 정의"
   ]
  },
  {
   "cell_type": "code",
   "execution_count": null,
   "metadata": {},
   "outputs": [],
   "source": [
    "# 학습 스텝을 정의합니다.\n",
    "@tf.function\n",
    "def train_step(images, labels):\n",
    "    with tf.GradientTape() as tape:\n",
    "        outputs = model(images, training=True)\n",
    "        # 배치 학습 데이터의 개별 손실값을 구합니다.\n",
    "        loss = loss_object(labels, outputs)\n",
    "\n",
    "    # 손실값 참고하여, 그래디언트를 구합니다.\n",
    "    gradients = tape.gradient(loss, model.trainable_variables)\n",
    "    # 모델의 가중치를 업데이트합니다.\n",
    "    optimizer.apply_gradients(zip(gradients, model.trainable_variables))\n",
    "\n",
    "    # 학습 손실값을 계산합니다.\n",
    "    train_loss(loss)\n",
    "    # 학습 평가지표를 계산합니다.\n",
    "    train_accuracy(labels, outputs)\n",
    "\n",
    "# 검증 스텝을 정의합니다.\n",
    "@tf.function\n",
    "def val_step(images, labels):\n",
    "    outputs = model(images, training=False)\n",
    "    # 배치 검증 데이터의 개별 손실값을 구합니다.\n",
    "    v_loss = loss_object(labels, outputs)\n",
    "\n",
    "    # 검증 손실값을 계산합니다.\n",
    "    val_loss(v_loss)\n",
    "    # 검증 평가지표를 계산합니다.\n",
    "    val_accuracy(labels, outputs)"
   ]
  },
  {
   "cell_type": "markdown",
   "metadata": {},
   "source": [
    "### 학습 진행"
   ]
  },
  {
   "cell_type": "code",
   "execution_count": null,
   "metadata": {},
   "outputs": [],
   "source": [
    "EPOCHS = 2\n",
    "\n",
    "# 수준: epoch\n",
    "for epoch in range(EPOCHS):\n",
    "    # 다음 에폭을 위해 지표를 초기화합니다.\n",
    "    train_loss.reset_states()\n",
    "    train_accuracy.reset_states()\n",
    "    val_loss.reset_states()\n",
    "    val_accuracy.reset_states()\n",
    "\n",
    "    # 수준: step\n",
    "    for images, labels in train_ds:\n",
    "        train_step(images, labels)\n",
    "\n",
    "    # 수준: step\n",
    "    for val_images, val_labels in val_ds:\n",
    "        val_step(val_images, val_labels)\n",
    "\n",
    "    print('Epoch: {}, train_loss: {}, train_acc: {} val_loss: {}, val_acc: {}'.format(\n",
    "          epoch + 1,\n",
    "          train_loss.result(), train_accuracy.result() * 100,\n",
    "          val_loss.result(), val_accuracy.result() * 100))"
   ]
  }
 ],
 "metadata": {
  "kernelspec": {
   "display_name": "jhw",
   "language": "python",
   "name": "jhw"
  },
  "language_info": {
   "codemirror_mode": {
    "name": "ipython",
    "version": 3
   },
   "file_extension": ".py",
   "mimetype": "text/x-python",
   "name": "python",
   "nbconvert_exporter": "python",
   "pygments_lexer": "ipython3",
   "version": "3.8.5"
  }
 },
 "nbformat": 4,
 "nbformat_minor": 2
}
